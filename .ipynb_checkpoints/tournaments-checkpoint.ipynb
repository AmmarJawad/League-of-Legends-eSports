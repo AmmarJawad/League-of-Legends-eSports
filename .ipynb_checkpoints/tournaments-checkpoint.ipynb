{
 "cells": [
  {
   "cell_type": "markdown",
   "metadata": {},
   "source": [
    "## Importing libraries"
   ]
  },
  {
   "cell_type": "code",
   "execution_count": 108,
   "metadata": {},
   "outputs": [],
   "source": [
    "import pandas as pd\n",
    "import numpy as np\n",
    "import requests\n",
    "import matplotlib.pyplot as plt"
   ]
  },
  {
   "cell_type": "markdown",
   "metadata": {},
   "source": [
    "## Data Extraction"
   ]
  },
  {
   "cell_type": "code",
   "execution_count": 68,
   "metadata": {},
   "outputs": [],
   "source": [
    "# Group stage data found by identifying network calls made on lolesports.com\n",
    "worlds_2015_group = requests.get('https://api.lolesports.com/api/v2/tournamentPlayerStats?groupName=groups&tournamentId=91be3d78-874a-44e0-943f-073d4c9d7bf6')\n",
    "worlds_2016_group = requests.get('https://api.lolesports.com/api/v2/tournamentPlayerStats?groupName=groups&tournamentId=3c5fa267-237e-4b16-8e86-20378a47bf1c')\n",
    "worlds_2017_group = requests.get('https://api.lolesports.com/api/v2/tournamentPlayerStats?groupName=groups&tournamentId=a246d0f8-2b5c-4431-af4c-b872c8dee023')\n",
    "\n",
    "# Knockout stage data also found on lolesports.com\n",
    "worlds_2015_ko = requests.get('https://api.lolesports.com/api/v2/tournamentPlayerStats?groupName=elim&tournamentId=91be3d78-874a-44e0-943f-073d4c9d7bf6')\n",
    "worlds_2016_ko = requests.get('https://api.lolesports.com/api/v2/tournamentPlayerStats?groupName=elim&tournamentId=3c5fa267-237e-4b16-8e86-20378a47bf1c')\n",
    "worlds_2017_ko = requests.get('https://api.lolesports.com/api/v2/tournamentPlayerStats?groupName=elim&tournamentId=a246d0f8-2b5c-4431-af4c-b872c8dee023')"
   ]
  },
  {
   "cell_type": "markdown",
   "metadata": {},
   "source": [
    "## Data Wrangling"
   ]
  },
  {
   "cell_type": "code",
   "execution_count": 69,
   "metadata": {},
   "outputs": [],
   "source": [
    "# Data wrangled to prepare for pandas\n",
    "worlds_2015_group = worlds_2015_group.json()\n",
    "worlds_2016_group = worlds_2016_group.json()\n",
    "worlds_2017_group = worlds_2017_group.json()\n",
    "worlds_2015_ko = worlds_2015_ko.json()\n",
    "worlds_2016_ko = worlds_2016_ko.json()\n",
    "worlds_2017_ko = worlds_2017_ko.json()"
   ]
  },
  {
   "cell_type": "code",
   "execution_count": 94,
   "metadata": {},
   "outputs": [
    {
     "name": "stdout",
     "output_type": "stream",
     "text": [
      "Players in worlds group stage 2015:  84\n",
      "Players in worlds group stage 2016:  85\n",
      "Players in worlds group stage 2017:  85\n",
      "Players in worlds knockout stage 2015:  41\n",
      "Players in worlds knockout stage 2016:  41\n",
      "Players in worlds knockout stage 2017:  41\n",
      "Sum of all players:  377\n"
     ]
    }
   ],
   "source": [
    "# Converting JSON files into pandas dataframes for both group and knockout stages\n",
    "df_15_group = pd.DataFrame(worlds_2015_group['stats'])\n",
    "df_16_group = pd.DataFrame(worlds_2016_group['stats'])\n",
    "df_17_group = pd.DataFrame(worlds_2017_group['stats'])\n",
    "df_15_ko = pd.DataFrame(worlds_2015_ko['stats'])\n",
    "df_16_ko = pd.DataFrame(worlds_2016_ko['stats'])\n",
    "df_17_ko = pd.DataFrame(worlds_2017_ko['stats'])\n",
    "\n",
    "print \"Players in worlds group stage 2015: \", len(df_15_group)\n",
    "print \"Players in worlds group stage 2016: \", len(df_16_group)\n",
    "print \"Players in worlds group stage 2017: \", len(df_17_group)\n",
    "print \"Players in worlds knockout stage 2015: \", len(df_15_ko)\n",
    "print \"Players in worlds knockout stage 2016: \", len(df_16_ko)\n",
    "print \"Players in worlds knockout stage 2017: \", len(df_17_ko)\n",
    "print \"Sum of all players: \", (len(df_15_group)+len(df_16_group)+len(df_17_group)+len(df_15_ko)+len(df_16_ko)+len(df_17_ko))"
   ]
  },
  {
   "cell_type": "code",
   "execution_count": 86,
   "metadata": {},
   "outputs": [
    {
     "name": "stdout",
     "output_type": "stream",
     "text": [
      "Worlds group stage 2015:  ['worlds_2015_group']\n",
      "Worlds group stage 2016:  ['worlds_2016_group']\n",
      "Worlds group stage 2017:  ['worlds_2017_group']\n",
      "Worlds knockout stage 2015:  ['worlds_2015, ko']\n",
      "Worlds knockout stage 2016:  ['worlds_2016_ko']\n",
      "Worlds knockout stage 2017:  ['worlds_2017_ko']\n"
     ]
    }
   ],
   "source": [
    "# Adding a new column identifying the tournament for each row\n",
    "df_15_group['tournamentId'], df_16_group['tournamentId'], df_17_group['tournamentId'] = [\n",
    "    'worlds_2015_group', \n",
    "    'worlds_2016_group', \n",
    "    'worlds_2017_group']\n",
    "\n",
    "df_15_ko['tournamentId'], df_16_ko['tournamentId'], df_17_ko['tournamentId'] = [\n",
    "    'worlds_2015, ko',\n",
    "    'worlds_2016_ko',\n",
    "    'worlds_2017_ko'\n",
    "]\n",
    "# Checking whether each dataframe is correcltly labelled in its tournamentId field\n",
    "print \"Worlds group stage 2015: \", df_15_group['tournamentId'].unique()\n",
    "print \"Worlds group stage 2016: \", df_16_group['tournamentId'].unique()\n",
    "print \"Worlds group stage 2017: \", df_17_group['tournamentId'].unique()\n",
    "print \"Worlds knockout stage 2015: \", df_15_ko['tournamentId'].unique()\n",
    "print \"Worlds knockout stage 2016: \", df_16_ko['tournamentId'].unique()\n",
    "print \"Worlds knockout stage 2017: \", df_17_ko['tournamentId'].unique()"
   ]
  },
  {
   "cell_type": "code",
   "execution_count": 90,
   "metadata": {},
   "outputs": [
    {
     "name": "stdout",
     "output_type": "stream",
     "text": [
      "Range of tournamentIds found:  ['worlds_2015_group' 'worlds_2016_group' 'worlds_2017_group'\n",
      " 'worlds_2015, ko' 'worlds_2016_ko' 'worlds_2017_ko']\n"
     ]
    }
   ],
   "source": [
    "# Concatenating all 6 dataframes into one single dataframe\n",
    "df = pd.concat([df_15_group, df_16_group, df_17_group, df_15_ko, df_16_ko, df_17_ko], axis=0)\n",
    "\n",
    "# Checking that the values for each tournament exists in the new dataframe\n",
    "print \"Range of tournamentIds found: \", df['tournamentId'].unique()"
   ]
  },
  {
   "cell_type": "markdown",
   "metadata": {},
   "source": [
    "## Exploratory Data Analysis"
   ]
  },
  {
   "cell_type": "code",
   "execution_count": 110,
   "metadata": {},
   "outputs": [
    {
     "name": "stdout",
     "output_type": "stream",
     "text": [
      "377 rows of which 173 are unique player names.\n"
     ]
    }
   ],
   "source": [
    "print \"{} rows of which {} are unique player names.\".format(len(df), len(df['playerSlug'].unique()))"
   ]
  },
  {
   "cell_type": "code",
   "execution_count": 101,
   "metadata": {},
   "outputs": [
    {
     "name": "stdout",
     "output_type": "stream",
     "text": [
      "Rows: 377 \n",
      "Columns: 16\n"
     ]
    },
    {
     "data": {
      "text/html": [
       "<div>\n",
       "<style scoped>\n",
       "    .dataframe tbody tr th:only-of-type {\n",
       "        vertical-align: middle;\n",
       "    }\n",
       "\n",
       "    .dataframe tbody tr th {\n",
       "        vertical-align: top;\n",
       "    }\n",
       "\n",
       "    .dataframe thead th {\n",
       "        text-align: right;\n",
       "    }\n",
       "</style>\n",
       "<table border=\"1\" class=\"dataframe\">\n",
       "  <thead>\n",
       "    <tr style=\"text-align: right;\">\n",
       "      <th></th>\n",
       "      <th>assists</th>\n",
       "      <th>cs</th>\n",
       "      <th>csPerMin</th>\n",
       "      <th>deaths</th>\n",
       "      <th>gamesPlayed</th>\n",
       "      <th>id</th>\n",
       "      <th>kda</th>\n",
       "      <th>killParticipation</th>\n",
       "      <th>kills</th>\n",
       "      <th>minutesPlayed</th>\n",
       "      <th>name</th>\n",
       "      <th>playerSlug</th>\n",
       "      <th>position</th>\n",
       "      <th>team</th>\n",
       "      <th>teamSlug</th>\n",
       "      <th>tournamentId</th>\n",
       "    </tr>\n",
       "  </thead>\n",
       "  <tbody>\n",
       "    <tr>\n",
       "      <th>0</th>\n",
       "      <td>18</td>\n",
       "      <td>1014</td>\n",
       "      <td>5.917137</td>\n",
       "      <td>20</td>\n",
       "      <td>6</td>\n",
       "      <td>7</td>\n",
       "      <td>1.500000</td>\n",
       "      <td>0.666667</td>\n",
       "      <td>12</td>\n",
       "      <td>171</td>\n",
       "      <td>WarL0cK</td>\n",
       "      <td>warl0ck</td>\n",
       "      <td>toplane</td>\n",
       "      <td>BKT</td>\n",
       "      <td>bangkok-titans</td>\n",
       "      <td>worlds_2015_group</td>\n",
       "    </tr>\n",
       "    <tr>\n",
       "      <th>1</th>\n",
       "      <td>20</td>\n",
       "      <td>1217</td>\n",
       "      <td>7.101731</td>\n",
       "      <td>26</td>\n",
       "      <td>6</td>\n",
       "      <td>10</td>\n",
       "      <td>1.153846</td>\n",
       "      <td>0.666667</td>\n",
       "      <td>10</td>\n",
       "      <td>171</td>\n",
       "      <td>Lloyd</td>\n",
       "      <td>lloyd</td>\n",
       "      <td>adcarry</td>\n",
       "      <td>BKT</td>\n",
       "      <td>bangkok-titans</td>\n",
       "      <td>worlds_2015_group</td>\n",
       "    </tr>\n",
       "    <tr>\n",
       "      <th>2</th>\n",
       "      <td>24</td>\n",
       "      <td>547</td>\n",
       "      <td>3.191986</td>\n",
       "      <td>25</td>\n",
       "      <td>6</td>\n",
       "      <td>11</td>\n",
       "      <td>1.280000</td>\n",
       "      <td>0.711111</td>\n",
       "      <td>8</td>\n",
       "      <td>171</td>\n",
       "      <td>007x</td>\n",
       "      <td>007x</td>\n",
       "      <td>jungle</td>\n",
       "      <td>BKT</td>\n",
       "      <td>bangkok-titans</td>\n",
       "      <td>worlds_2015_group</td>\n",
       "    </tr>\n",
       "    <tr>\n",
       "      <th>3</th>\n",
       "      <td>32</td>\n",
       "      <td>2312</td>\n",
       "      <td>9.158854</td>\n",
       "      <td>11</td>\n",
       "      <td>7</td>\n",
       "      <td>20</td>\n",
       "      <td>6.363636</td>\n",
       "      <td>0.673077</td>\n",
       "      <td>38</td>\n",
       "      <td>252</td>\n",
       "      <td>An</td>\n",
       "      <td>an</td>\n",
       "      <td>adcarry</td>\n",
       "      <td>AHQ</td>\n",
       "      <td>ahq-e-sports-club</td>\n",
       "      <td>worlds_2015_group</td>\n",
       "    </tr>\n",
       "    <tr>\n",
       "      <th>4</th>\n",
       "      <td>39</td>\n",
       "      <td>2039</td>\n",
       "      <td>8.077380</td>\n",
       "      <td>13</td>\n",
       "      <td>7</td>\n",
       "      <td>34</td>\n",
       "      <td>4.769231</td>\n",
       "      <td>0.596154</td>\n",
       "      <td>23</td>\n",
       "      <td>252</td>\n",
       "      <td>Westdoor</td>\n",
       "      <td>westdoor</td>\n",
       "      <td>midlane</td>\n",
       "      <td>AHQ</td>\n",
       "      <td>ahq-e-sports-club</td>\n",
       "      <td>worlds_2015_group</td>\n",
       "    </tr>\n",
       "  </tbody>\n",
       "</table>\n",
       "</div>"
      ],
      "text/plain": [
       "   assists    cs  csPerMin  deaths  gamesPlayed  id       kda  \\\n",
       "0       18  1014  5.917137      20            6   7  1.500000   \n",
       "1       20  1217  7.101731      26            6  10  1.153846   \n",
       "2       24   547  3.191986      25            6  11  1.280000   \n",
       "3       32  2312  9.158854      11            7  20  6.363636   \n",
       "4       39  2039  8.077380      13            7  34  4.769231   \n",
       "\n",
       "   killParticipation  kills  minutesPlayed      name playerSlug position team  \\\n",
       "0           0.666667     12            171   WarL0cK    warl0ck  toplane  BKT   \n",
       "1           0.666667     10            171     Lloyd      lloyd  adcarry  BKT   \n",
       "2           0.711111      8            171      007x       007x   jungle  BKT   \n",
       "3           0.673077     38            252        An         an  adcarry  AHQ   \n",
       "4           0.596154     23            252  Westdoor   westdoor  midlane  AHQ   \n",
       "\n",
       "            teamSlug       tournamentId  \n",
       "0     bangkok-titans  worlds_2015_group  \n",
       "1     bangkok-titans  worlds_2015_group  \n",
       "2     bangkok-titans  worlds_2015_group  \n",
       "3  ahq-e-sports-club  worlds_2015_group  \n",
       "4  ahq-e-sports-club  worlds_2015_group  "
      ]
     },
     "execution_count": 101,
     "metadata": {},
     "output_type": "execute_result"
    }
   ],
   "source": [
    "print \"Rows: {} \\nColumns: {}\".format(df.shape[0], df.shape[1])\n",
    "df.head()"
   ]
  },
  {
   "cell_type": "code",
   "execution_count": null,
   "metadata": {},
   "outputs": [],
   "source": []
  }
 ],
 "metadata": {
  "kernelspec": {
   "display_name": "Python 2",
   "language": "python",
   "name": "python2"
  },
  "language_info": {
   "codemirror_mode": {
    "name": "ipython",
    "version": 2
   },
   "file_extension": ".py",
   "mimetype": "text/x-python",
   "name": "python",
   "nbconvert_exporter": "python",
   "pygments_lexer": "ipython2",
   "version": "2.7.14"
  }
 },
 "nbformat": 4,
 "nbformat_minor": 2
}
